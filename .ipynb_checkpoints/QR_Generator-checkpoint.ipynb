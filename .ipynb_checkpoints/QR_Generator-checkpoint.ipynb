{
  "nbformat": 4,
  "nbformat_minor": 0,
  "metadata": {
    "colab": {
      "provenance": []
    },
    "kernelspec": {
      "name": "python3",
      "display_name": "Python 3"
    },
    "language_info": {
      "name": "python"
    }
  },
  "cells": [
    {
      "cell_type": "markdown",
      "source": [
        "# Installing required libraries\n"
      ],
      "metadata": {
        "id": "6lDa9npF2Aag"
      }
    },
    {
      "cell_type": "code",
      "execution_count": 3,
      "metadata": {
        "colab": {
          "base_uri": "https://localhost:8080/"
        },
        "id": "aUm_i33S01yO",
        "outputId": "c103caf5-64a5-4708-89b1-77472a1f772f"
      },
      "outputs": [
        {
          "output_type": "stream",
          "name": "stdout",
          "text": [
            "Requirement already satisfied: qrcode[pil] in /usr/local/lib/python3.10/dist-packages (7.4.2)\n",
            "Requirement already satisfied: typing-extensions in /usr/local/lib/python3.10/dist-packages (from qrcode[pil]) (4.5.0)\n",
            "Requirement already satisfied: pypng in /usr/local/lib/python3.10/dist-packages (from qrcode[pil]) (0.20220715.0)\n",
            "Requirement already satisfied: pillow>=9.1.0 in /usr/local/lib/python3.10/dist-packages (from qrcode[pil]) (9.4.0)\n",
            "Requirement already satisfied: image in /usr/local/lib/python3.10/dist-packages (1.5.33)\n",
            "Requirement already satisfied: pillow in /usr/local/lib/python3.10/dist-packages (from image) (9.4.0)\n",
            "Requirement already satisfied: django in /usr/local/lib/python3.10/dist-packages (from image) (5.0)\n",
            "Requirement already satisfied: six in /usr/local/lib/python3.10/dist-packages (from image) (1.16.0)\n",
            "Requirement already satisfied: asgiref>=3.7.0 in /usr/local/lib/python3.10/dist-packages (from django->image) (3.7.2)\n",
            "Requirement already satisfied: sqlparse>=0.3.1 in /usr/local/lib/python3.10/dist-packages (from django->image) (0.4.4)\n",
            "Requirement already satisfied: typing-extensions>=4 in /usr/local/lib/python3.10/dist-packages (from asgiref>=3.7.0->django->image) (4.5.0)\n",
            "Requirement already satisfied: datetime in /usr/local/lib/python3.10/dist-packages (5.4)\n",
            "Requirement already satisfied: zope.interface in /usr/local/lib/python3.10/dist-packages (from datetime) (6.1)\n",
            "Requirement already satisfied: pytz in /usr/local/lib/python3.10/dist-packages (from datetime) (2023.3.post1)\n",
            "Requirement already satisfied: setuptools in /usr/local/lib/python3.10/dist-packages (from zope.interface->datetime) (67.7.2)\n"
          ]
        }
      ],
      "source": [
        "!pip install qrcode[pil]\n",
        "!pip install image\n",
        "!pip install datetime"
      ]
    },
    {
      "cell_type": "code",
      "source": [
        "import qrcode\n",
        "from IPython.display import display, Image\n",
        "from datetime import datetime, timedelta\n",
        "from base64 import urlsafe_b64encode, urlsafe_b64decode\n",
        "import math"
      ],
      "metadata": {
        "id": "xyIykq_g331y"
      },
      "execution_count": 8,
      "outputs": []
    },
    {
      "cell_type": "markdown",
      "source": [
        "# QR generator\n",
        "** please change the 'expiration_minutes' as required\n"
      ],
      "metadata": {
        "id": "pYa5Wr0W3o74"
      }
    },
    {
      "cell_type": "code",
      "source": [
        "def generate_dynamic_qr_code(data, expiration_minutes):\n",
        "\n",
        "    current_datetime = datetime.now()\n",
        "    expiration_time = timedelta(minutes=expiration_minutes)\n",
        "    expiration_datetime = current_datetime + expiration_time\n",
        "    rounded_minutes = expiration_datetime.minute + 1  # Rounding up minutes\n",
        "    expiration_datetime = expiration_datetime.replace(minute=rounded_minutes, second=0, microsecond=0)\n",
        "\n",
        "    # string representation\n",
        "    encoded_datetime = expiration_datetime.isoformat()\n",
        "\n",
        "    # Encoding the string to make it URL-safe\n",
        "    encoded_data = urlsafe_b64encode(encoded_datetime.encode()).decode()\n",
        "\n",
        "    data_with_expiration = f\"{data}?dynamic_qr_data={encoded_data}\"\n",
        "\n",
        "\n",
        "    qr = qrcode.QRCode(\n",
        "        version=1,\n",
        "        error_correction=qrcode.constants.ERROR_CORRECT_L,\n",
        "        box_size=10,\n",
        "        border=4,\n",
        "    )\n",
        "    qr.add_data(data_with_expiration)\n",
        "    qr.make(fit=True)\n",
        "    img = qr.make_image(fill_color=\"black\", back_color=\"white\")\n",
        "\n",
        "\n",
        "    img.save(\"dynamic_qr.png\")\n",
        "    display(Image(filename='dynamic_qr.png'))\n",
        "    img.show()\n",
        "\n",
        "    return data_with_expiration\n",
        "\n",
        "\n",
        "data_to_encode = \"http://123.231.15.124:5000/validate_qr\"\n",
        "#Tnl, Only change this\n",
        "expiration_minutes = 500\n",
        "dynamic_qr_data = generate_dynamic_qr_code(data_to_encode, expiration_minutes)\n",
        "print(f\"Dynamic QR code data: {dynamic_qr_data}\")\n"
      ],
      "metadata": {
        "id": "Kb5esC7qbPFh",
        "colab": {
          "base_uri": "https://localhost:8080/",
          "height": 485
        },
        "outputId": "f430a059-7f85-4c7a-fd31-a717a26ae24c"
      },
      "execution_count": 24,
      "outputs": [
        {
          "output_type": "display_data",
          "data": {
            "image/png": "[encoded data removed]",
            "text/plain": [
              "<IPython.core.display.Image object>"
            ]
          },
          "metadata": {}
        },
        {
          "output_type": "stream",
          "name": "stdout",
          "text": [
            "Dynamic QR code data: http://123.231.15.124:5000/validate_qr?dynamic_qr_data=MjAyMy0xMi0yMVQxNTowMzowMA==\n"
          ]
        }
      ]
    },
    {
      "cell_type": "markdown",
      "source": [
        "** Encription / Decription mechanism (for you guys to understand)\n",
        "\n",
        "* Change the 'expiration_time_in_minutes' as needed"
      ],
      "metadata": {
        "id": "cNNhEdH64M2w"
      }
    },
    {
      "cell_type": "code",
      "source": [
        "def encode_datetime_with_expiration(expiration_minutes):\n",
        "    current_datetime = datetime.now()\n",
        "    expiration_time = timedelta(minutes=expiration_minutes)\n",
        "    expiration_datetime = current_datetime + expiration_time\n",
        "    rounded_minutes = expiration_datetime.minute + 1  # Rounding up minutes\n",
        "    expiration_datetime = expiration_datetime.replace(minute=rounded_minutes, second=0, microsecond=0)\n",
        "    encoded_datetime = expiration_datetime.isoformat()\n",
        "    encoded_data = urlsafe_b64encode(encoded_datetime.encode()).decode()\n",
        "\n",
        "    return encoded_data\n",
        "\n",
        "def decode_datetime_with_expiration(encoded_data):\n",
        "\n",
        "    decoded_datetime_bytes = urlsafe_b64decode(encoded_data.encode())\n",
        "    decoded_datetime_str = decoded_datetime_bytes.decode()\n",
        "    expiration_datetime = datetime.fromisoformat(decoded_datetime_str)\n",
        "\n",
        "    return expiration_datetime\n",
        "\n",
        "#Tnl Change here\n",
        "expiration_time_in_minutes = 60\n",
        "encoded_data = encode_datetime_with_expiration(expiration_time_in_minutes)\n",
        "now = datetime.now()\n",
        "print(f\"Encoded data: {now}\")\n",
        "\n",
        "print(f\"Encoded data: {encoded_data}\")\n",
        "\n",
        "decoded_datetime = decode_datetime_with_expiration(encoded_data)\n",
        "print(f\"Decoded datetime: {decoded_datetime}\")\n"
      ],
      "metadata": {
        "colab": {
          "base_uri": "https://localhost:8080/"
        },
        "id": "-Lf5JgFfCvNl",
        "outputId": "5d1ceaaf-5737-46cd-eaca-e737e249f2e6"
      },
      "execution_count": 22,
      "outputs": [
        {
          "output_type": "stream",
          "name": "stdout",
          "text": [
            "Encoded data: 2023-12-21 06:38:46.940377\n",
            "Encoded data: MjAyMy0xMi0yMVQwNzozOTowMA==\n",
            "Decoded datetime: 2023-12-21 07:39:00\n"
          ]
        }
      ]
    }
  ]
}