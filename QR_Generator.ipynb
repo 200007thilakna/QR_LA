{
 "cells": [
  {
   "cell_type": "markdown",
   "metadata": {
    "id": "6lDa9npF2Aag"
   },
   "source": [
    "# Installing required libraries\n"
   ]
  },
  {
   "cell_type": "code",
   "execution_count": 1,
   "metadata": {
    "colab": {
     "base_uri": "https://localhost:8080/"
    },
    "id": "aUm_i33S01yO",
    "outputId": "c103caf5-64a5-4708-89b1-77472a1f772f"
   },
   "outputs": [
    {
     "name": "stdout",
     "output_type": "stream",
     "text": [
      "Collecting qrcode[pil]\n",
      "  Downloading qrcode-7.4.2-py3-none-any.whl (46 kB)\n",
      "     ---------------------------------------- 0.0/46.2 kB ? eta -:--:--\n",
      "     ---------------- --------------------- 20.5/46.2 kB 330.3 kB/s eta 0:00:01\n",
      "     ------------------------- ------------ 30.7/46.2 kB 330.3 kB/s eta 0:00:01\n",
      "     -------------------------------------- 46.2/46.2 kB 287.7 kB/s eta 0:00:00\n",
      "Requirement already satisfied: typing-extensions in c:\\users\\acer\\.conda\\envs\\lacuna\\lib\\site-packages (from qrcode[pil]) (4.9.0)\n",
      "Collecting pypng (from qrcode[pil])\n",
      "  Downloading pypng-0.20220715.0-py3-none-any.whl (58 kB)\n",
      "     ---------------------------------------- 0.0/58.1 kB ? eta -:--:--\n",
      "     --------------------------------- ---- 51.2/58.1 kB 871.5 kB/s eta 0:00:01\n",
      "     -------------------------------------- 58.1/58.1 kB 759.0 kB/s eta 0:00:00\n",
      "Requirement already satisfied: colorama in c:\\users\\acer\\.conda\\envs\\lacuna\\lib\\site-packages (from qrcode[pil]) (0.4.6)\n",
      "Requirement already satisfied: pillow>=9.1.0 in c:\\users\\acer\\.conda\\envs\\lacuna\\lib\\site-packages (from qrcode[pil]) (10.1.0)\n",
      "Installing collected packages: pypng, qrcode\n",
      "Successfully installed pypng-0.20220715.0 qrcode-7.4.2\n",
      "Collecting image\n",
      "  Downloading image-1.5.33.tar.gz (15 kB)\n",
      "  Preparing metadata (setup.py): started\n",
      "  Preparing metadata (setup.py): finished with status 'done'\n",
      "Requirement already satisfied: pillow in c:\\users\\acer\\.conda\\envs\\lacuna\\lib\\site-packages (from image) (10.1.0)\n",
      "Collecting django (from image)\n",
      "  Downloading Django-5.0-py3-none-any.whl.metadata (4.1 kB)\n",
      "Requirement already satisfied: six in c:\\users\\acer\\.conda\\envs\\lacuna\\lib\\site-packages (from image) (1.16.0)\n",
      "Collecting asgiref>=3.7.0 (from django->image)\n",
      "  Downloading asgiref-3.7.2-py3-none-any.whl.metadata (9.2 kB)\n",
      "Collecting sqlparse>=0.3.1 (from django->image)\n",
      "  Downloading sqlparse-0.4.4-py3-none-any.whl (41 kB)\n",
      "     ---------------------------------------- 0.0/41.2 kB ? eta -:--:--\n",
      "     ----------------------------- ---------- 30.7/41.2 kB 1.3 MB/s eta 0:00:01\n",
      "     -------------------------------------- 41.2/41.2 kB 491.2 kB/s eta 0:00:00\n",
      "Collecting tzdata (from django->image)\n",
      "  Downloading tzdata-2023.3-py2.py3-none-any.whl (341 kB)\n",
      "     ---------------------------------------- 0.0/341.8 kB ? eta -:--:--\n",
      "     --------- ----------------------------- 81.9/341.8 kB 2.3 MB/s eta 0:00:01\n",
      "     --------------------- ---------------- 194.6/341.8 kB 2.4 MB/s eta 0:00:01\n",
      "     ----------------------------------- -- 317.4/341.8 kB 2.5 MB/s eta 0:00:01\n",
      "     -------------------------------------- 341.8/341.8 kB 1.8 MB/s eta 0:00:00\n",
      "Requirement already satisfied: typing-extensions>=4 in c:\\users\\acer\\.conda\\envs\\lacuna\\lib\\site-packages (from asgiref>=3.7.0->django->image) (4.9.0)\n",
      "Downloading Django-5.0-py3-none-any.whl (8.1 MB)\n",
      "   ---------------------------------------- 0.0/8.1 MB ? eta -:--:--\n",
      "   - -------------------------------------- 0.2/8.1 MB 7.6 MB/s eta 0:00:02\n",
      "   - -------------------------------------- 0.4/8.1 MB 4.5 MB/s eta 0:00:02\n",
      "   --- ------------------------------------ 0.7/8.1 MB 5.2 MB/s eta 0:00:02\n",
      "   ---- ----------------------------------- 0.9/8.1 MB 4.8 MB/s eta 0:00:02\n",
      "   ----- ---------------------------------- 1.2/8.1 MB 5.0 MB/s eta 0:00:02\n",
      "   ------ --------------------------------- 1.3/8.1 MB 4.7 MB/s eta 0:00:02\n",
      "   -------- ------------------------------- 1.7/8.1 MB 4.8 MB/s eta 0:00:02\n",
      "   --------- ------------------------------ 1.9/8.1 MB 4.8 MB/s eta 0:00:02\n",
      "   ---------- ----------------------------- 2.1/8.1 MB 4.9 MB/s eta 0:00:02\n",
      "   ----------- ---------------------------- 2.4/8.1 MB 5.1 MB/s eta 0:00:02\n",
      "   ------------- -------------------------- 2.7/8.1 MB 5.0 MB/s eta 0:00:02\n",
      "   -------------- ------------------------- 2.9/8.1 MB 5.0 MB/s eta 0:00:02\n",
      "   --------------- ------------------------ 3.2/8.1 MB 5.1 MB/s eta 0:00:01\n",
      "   ----------------- ---------------------- 3.5/8.1 MB 5.2 MB/s eta 0:00:01\n",
      "   ----------------- ---------------------- 3.6/8.1 MB 5.1 MB/s eta 0:00:01\n",
      "   ------------------- -------------------- 4.0/8.1 MB 5.2 MB/s eta 0:00:01\n",
      "   -------------------- ------------------- 4.3/8.1 MB 5.2 MB/s eta 0:00:01\n",
      "   ---------------------- ----------------- 4.5/8.1 MB 5.2 MB/s eta 0:00:01\n",
      "   ----------------------- ---------------- 4.8/8.1 MB 5.2 MB/s eta 0:00:01\n",
      "   ------------------------- -------------- 5.1/8.1 MB 5.3 MB/s eta 0:00:01\n",
      "   -------------------------- ------------- 5.5/8.1 MB 5.4 MB/s eta 0:00:01\n",
      "   ---------------------------- ----------- 5.8/8.1 MB 5.5 MB/s eta 0:00:01\n",
      "   ----------------------------- ---------- 6.1/8.1 MB 5.4 MB/s eta 0:00:01\n",
      "   ------------------------------ --------- 6.3/8.1 MB 5.5 MB/s eta 0:00:01\n",
      "   -------------------------------- ------- 6.6/8.1 MB 5.5 MB/s eta 0:00:01\n",
      "   --------------------------------- ------ 6.8/8.1 MB 5.4 MB/s eta 0:00:01\n",
      "   ----------------------------------- ---- 7.1/8.1 MB 5.5 MB/s eta 0:00:01\n",
      "   ------------------------------------ --- 7.3/8.1 MB 5.5 MB/s eta 0:00:01\n",
      "   ------------------------------------- -- 7.7/8.1 MB 5.5 MB/s eta 0:00:01\n",
      "   ---------------------------------------  8.0/8.1 MB 5.6 MB/s eta 0:00:01\n",
      "   ---------------------------------------  8.1/8.1 MB 5.6 MB/s eta 0:00:01\n",
      "   ---------------------------------------- 8.1/8.1 MB 5.4 MB/s eta 0:00:00\n",
      "Downloading asgiref-3.7.2-py3-none-any.whl (24 kB)\n",
      "Building wheels for collected packages: image\n",
      "  Building wheel for image (setup.py): started\n",
      "  Building wheel for image (setup.py): finished with status 'done'\n",
      "  Created wheel for image: filename=image-1.5.33-py2.py3-none-any.whl size=19489 sha256=921ca4ac9902e0fb7d13497eff3009cd8eb2e6c304c9b15f57d2b1f792f16543\n",
      "  Stored in directory: c:\\users\\acer\\appdata\\local\\pip\\cache\\wheels\\70\\0c\\a4\\7cfa53a5c6225c2db2bfec08e782b43d0f25fdae2e995b69be\n",
      "Successfully built image\n",
      "Installing collected packages: tzdata, sqlparse, asgiref, django, image\n",
      "Successfully installed asgiref-3.7.2 django-5.0 image-1.5.33 sqlparse-0.4.4 tzdata-2023.3\n",
      "Collecting datetime\n",
      "  Downloading DateTime-5.4-py3-none-any.whl.metadata (33 kB)\n",
      "Collecting zope.interface (from datetime)\n",
      "  Downloading zope.interface-6.1-cp310-cp310-win_amd64.whl.metadata (42 kB)\n",
      "     ---------------------------------------- 0.0/42.8 kB ? eta -:--:--\n",
      "     ------------------------------------ - 41.0/42.8 kB 991.0 kB/s eta 0:00:01\n",
      "     -------------------------------------- 42.8/42.8 kB 525.5 kB/s eta 0:00:00\n",
      "Requirement already satisfied: pytz in c:\\users\\acer\\.conda\\envs\\lacuna\\lib\\site-packages (from datetime) (2023.3.post1)\n",
      "Requirement already satisfied: setuptools in c:\\users\\acer\\.conda\\envs\\lacuna\\lib\\site-packages (from zope.interface->datetime) (68.2.2)\n",
      "Downloading DateTime-5.4-py3-none-any.whl (52 kB)\n",
      "   ---------------------------------------- 0.0/52.5 kB ? eta -:--:--\n",
      "   ---------------------------------------- 52.5/52.5 kB 1.3 MB/s eta 0:00:00\n",
      "Downloading zope.interface-6.1-cp310-cp310-win_amd64.whl (204 kB)\n",
      "   ---------------------------------------- 0.0/204.2 kB ? eta -:--:--\n",
      "   ------------------------ --------------- 122.9/204.2 kB 3.6 MB/s eta 0:00:01\n",
      "   -------------------------------------- - 194.6/204.2 kB 2.0 MB/s eta 0:00:01\n",
      "   ---------------------------------------- 204.2/204.2 kB 1.6 MB/s eta 0:00:00\n",
      "Installing collected packages: zope.interface, datetime\n",
      "Successfully installed datetime-5.4 zope.interface-6.1\n"
     ]
    }
   ],
   "source": [
    "!pip install qrcode[pil]\n",
    "!pip install image\n",
    "!pip install datetime"
   ]
  },
  {
   "cell_type": "code",
   "execution_count": 2,
   "metadata": {
    "id": "xyIykq_g331y"
   },
   "outputs": [],
   "source": [
    "import qrcode\n",
    "from IPython.display import display, Image\n",
    "from datetime import datetime, timedelta\n",
    "from base64 import urlsafe_b64encode, urlsafe_b64decode\n",
    "import math"
   ]
  },
  {
   "cell_type": "markdown",
   "metadata": {
    "id": "pYa5Wr0W3o74"
   },
   "source": [
    "# QR generator\n",
    "** please change the 'expiration_minutes' as required\n"
   ]
  },
  {
   "cell_type": "code",
   "execution_count": 3,
   "metadata": {
    "colab": {
     "base_uri": "https://localhost:8080/",
     "height": 485
    },
    "id": "Kb5esC7qbPFh",
    "outputId": "f430a059-7f85-4c7a-fd31-a717a26ae24c"
   },
   "outputs": [
    {
     "data": {
      "image/png": "[encoded data removed]",
      "text/plain": [
       "<IPython.core.display.Image object>"
      ]
     },
     "metadata": {},
     "output_type": "display_data"
    },
    {
     "name": "stdout",
     "output_type": "stream",
     "text": [
      "Dynamic QR code data: http://123.231.15.124:5000/validate_qr?dynamic_qr_data=MjAyMy0xMi0yMVQyMTozMDowMA==\n"
     ]
    }
   ],
   "source": [
    "def generate_dynamic_qr_code(data, expiration_minutes):\n",
    "\n",
    "    current_datetime = datetime.now()\n",
    "    expiration_time = timedelta(minutes=expiration_minutes)\n",
    "    expiration_datetime = current_datetime + expiration_time\n",
    "    rounded_minutes = expiration_datetime.minute + 1  # Rounding up minutes\n",
    "    expiration_datetime = expiration_datetime.replace(minute=rounded_minutes, second=0, microsecond=0)\n",
    "\n",
    "    # string representation\n",
    "    encoded_datetime = expiration_datetime.isoformat()\n",
    "\n",
    "    # Encoding the string to make it URL-safe\n",
    "    encoded_data = urlsafe_b64encode(encoded_datetime.encode()).decode()\n",
    "\n",
    "    data_with_expiration = f\"{data}?dynamic_qr_data={encoded_data}\"\n",
    "\n",
    "\n",
    "    qr = qrcode.QRCode(\n",
    "        version=1,\n",
    "        error_correction=qrcode.constants.ERROR_CORRECT_L,\n",
    "        box_size=10,\n",
    "        border=4,\n",
    "    )\n",
    "    qr.add_data(data_with_expiration)\n",
    "    qr.make(fit=True)\n",
    "    img = qr.make_image(fill_color=\"black\", back_color=\"white\")\n",
    "\n",
    "\n",
    "    img.save(\"dynamic_qr.png\")\n",
    "    display(Image(filename='dynamic_qr.png'))\n",
    "    img.show()\n",
    "\n",
    "    return data_with_expiration\n",
    "\n",
    "\n",
    "data_to_encode = \"http://123.231.15.124:5000/validate_qr\"\n",
    "#Tnl, Only change this\n",
    "expiration_minutes = 1440\n",
    "dynamic_qr_data = generate_dynamic_qr_code(data_to_encode, expiration_minutes)\n",
    "print(f\"Dynamic QR code data: {dynamic_qr_data}\")\n"
   ]
  },
  {
   "cell_type": "markdown",
   "metadata": {
    "id": "cNNhEdH64M2w"
   },
   "source": [
    "** Encription / Decription mechanism (for you guys to understand)\n",
    "\n",
    "* Change the 'expiration_time_in_minutes' as needed"
   ]
  },
  {
   "cell_type": "code",
   "execution_count": 4,
   "metadata": {
    "colab": {
     "base_uri": "https://localhost:8080/"
    },
    "id": "-Lf5JgFfCvNl",
    "outputId": "5d1ceaaf-5737-46cd-eaca-e737e249f2e6"
   },
   "outputs": [
    {
     "name": "stdout",
     "output_type": "stream",
     "text": [
      "Encoded data: 2023-12-21 13:10:21.355593\n",
      "Encoded data: MjAyMy0xMi0yMVQxNDoxMTowMA==\n",
      "Decoded datetime: 2023-12-21 14:11:00\n"
     ]
    }
   ],
   "source": [
    "def encode_datetime_with_expiration(expiration_minutes):\n",
    "    current_datetime = datetime.now()\n",
    "    expiration_time = timedelta(minutes=expiration_minutes)\n",
    "    expiration_datetime = current_datetime + expiration_time\n",
    "    rounded_minutes = expiration_datetime.minute + 1  # Rounding up minutes\n",
    "    expiration_datetime = expiration_datetime.replace(minute=rounded_minutes, second=0, microsecond=0)\n",
    "    encoded_datetime = expiration_datetime.isoformat()\n",
    "    encoded_data = urlsafe_b64encode(encoded_datetime.encode()).decode()\n",
    "\n",
    "    return encoded_data\n",
    "\n",
    "def decode_datetime_with_expiration(encoded_data):\n",
    "\n",
    "    decoded_datetime_bytes = urlsafe_b64decode(encoded_data.encode())\n",
    "    decoded_datetime_str = decoded_datetime_bytes.decode()\n",
    "    expiration_datetime = datetime.fromisoformat(decoded_datetime_str)\n",
    "\n",
    "    return expiration_datetime\n",
    "\n",
    "#Tnl Change here\n",
    "expiration_time_in_minutes = 1440\n",
    "encoded_data = encode_datetime_with_expiration(expiration_time_in_minutes)\n",
    "now = datetime.now()\n",
    "print(f\"Encoded data: {now}\")\n",
    "\n",
    "print(f\"Encoded data: {encoded_data}\")\n",
    "\n",
    "decoded_datetime = decode_datetime_with_expiration(encoded_data)\n",
    "print(f\"Decoded datetime: {decoded_datetime}\")\n"
   ]
  },
  {
   "cell_type": "code",
   "execution_count": null,
   "metadata": {},
   "outputs": [],
   "source": []
  }
 ],
 "metadata": {
  "colab": {
   "provenance": []
  },
  "kernelspec": {
   "display_name": "Python 3 (ipykernel)",
   "language": "python",
   "name": "python3"
  },
  "language_info": {
   "codemirror_mode": {
    "name": "ipython",
    "version": 3
   },
   "file_extension": ".py",
   "mimetype": "text/x-python",
   "name": "python",
   "nbconvert_exporter": "python",
   "pygments_lexer": "ipython3",
   "version": "3.10.13"
  }
 },
 "nbformat": 4,
 "nbformat_minor": 4
}
